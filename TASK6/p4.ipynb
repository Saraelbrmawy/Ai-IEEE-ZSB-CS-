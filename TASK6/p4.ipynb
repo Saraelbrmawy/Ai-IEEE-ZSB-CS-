{
 "cells": [
  {
   "cell_type": "code",
   "execution_count": null,
   "id": "8eecc163",
   "metadata": {},
   "outputs": [],
   "source": []
  },
  {
   "cell_type": "code",
   "execution_count": 2,
   "id": "866dd3e1",
   "metadata": {},
   "outputs": [
    {
     "name": "stdout",
     "output_type": "stream",
     "text": [
      "enter the number7\n",
      "[[1 2 3 4 5 6 7]\n",
      " [1 2 3 4 5 6 7]\n",
      " [1 2 3 4 5 6 7]\n",
      " [1 2 3 4 5 6 7]\n",
      " [1 2 3 4 5 6 7]\n",
      " [1 2 3 4 5 6 7]\n",
      " [1 2 3 4 5 6 7]]\n"
     ]
    }
   ],
   "source": [
    "import numpy as np\n",
    "n=int(input(\"enter the number\"))\n",
    "x=np.full((n,n),1)\n",
    "y=np.array([range(1,n+1)]) \n",
    "print(x*y)"
   ]
  },
  {
   "cell_type": "code",
   "execution_count": null,
   "id": "f484c25b",
   "metadata": {},
   "outputs": [],
   "source": []
  },
  {
   "cell_type": "code",
   "execution_count": null,
   "id": "dccd4ea7",
   "metadata": {},
   "outputs": [],
   "source": []
  }
 ],
 "metadata": {
  "kernelspec": {
   "display_name": "Python 3 (ipykernel)",
   "language": "python",
   "name": "python3"
  },
  "language_info": {
   "codemirror_mode": {
    "name": "ipython",
    "version": 3
   },
   "file_extension": ".py",
   "mimetype": "text/x-python",
   "name": "python",
   "nbconvert_exporter": "python",
   "pygments_lexer": "ipython3",
   "version": "3.9.13"
  }
 },
 "nbformat": 4,
 "nbformat_minor": 5
}
